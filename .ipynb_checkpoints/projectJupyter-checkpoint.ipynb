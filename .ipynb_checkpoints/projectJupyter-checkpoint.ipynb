{
 "cells": [
  {
   "cell_type": "code",
   "execution_count": 1,
   "metadata": {},
   "outputs": [
    {
     "name": "stderr",
     "output_type": "stream",
     "text": [
      "//anaconda/lib/python2.7/site-packages/matplotlib/font_manager.py:273: UserWarning: Matplotlib is building the font cache using fc-list. This may take a moment.\n",
      "  warnings.warn('Matplotlib is building the font cache using fc-list. This may take a moment.')\n"
     ]
    }
   ],
   "source": [
    "import pandas as pd\n",
    "import numpy as np\n",
    "from sklearn import tree\n",
    "from sklearn.tree import DecisionTreeClassifier\n",
    "from sklearn.ensemble import RandomForestClassifier\n",
    "from sklearn.ensemble import GradientBoostingClassifier\n",
    "from sklearn.neighbors import KNeighborsClassifier\n",
    "from sklearn.linear_model import LogisticRegression\n",
    "import matplotlib.pyplot as plt\n",
    "import matplotlib as mpl\n",
    "from sklearn import preprocessing\n",
    "import plotly.plotly as py\n",
    "import plotly.graph_objs as go\n",
    "import math\n",
    "from sklearn.model_selection import GridSearchCV\n",
    "from string import ascii_letters\n",
    "import seaborn as sns\n",
    "from scipy.stats.kde import gaussian_kde\n",
    "from bokeh.charts import Scatter, output_file, show"
   ]
  },
  {
   "cell_type": "markdown",
   "metadata": {},
   "source": [
    "# WRITE SOMETHING HERE ABOUT THE PROJECT"
   ]
  },
  {
   "cell_type": "markdown",
   "metadata": {},
   "source": [
    "SOMETIHNG SOMETHING"
   ]
  },
  {
   "cell_type": "code",
   "execution_count": 5,
   "metadata": {},
   "outputs": [],
   "source": [
    "#read in data\n",
    "df = pd.read_csv(r'https://github.com/bgweber/StarCraftMining/raw/master/data/scmPvT_Protoss_Mid.csv', skiprows=1, header=None, names = ['ProtossPylon','ProtossSecondPylon','ProtossFirstGas','ProtossSecondGas','ProtossFirstExpansion','ProtossSecondExpansion','ProtossThirdExpansion','ProtossFourthExpansion','ProtossGateway','ProtossSecondGatway','ProtossThirdGatway','ProtossFourthGatway','ProtossCore','ProtossZealot','ProtossGoon','ProtossRange','ProtossForge',\n",
    "'ProtossCannon','ProtossGroundWeapons1','ProtossGroundArmor1','ProtossShields1','ProtossGroundWeapons2','ProtossGroundArmor2','ProtossShields2','ProtossCitadel','ProtossLegs','ProtossArchives','ProtossTemplar','ProtossArchon','ProtossStorm','ProtossDarkTemplar','ProtossDarkArchon','ProtossMaelstorm','ProtossRoboBay','ProtossShuttle','ProtossShuttleSpeed','ProtossRoboSupport','ProtossReavor','ProtossReavorDamage','ProtossReavorCapacity','ProtossObservory','ProtossObs',\n",
    "'ProtossStargate','ProtossCorsair','ProtossDisruptionWeb','ProtossFleetBeason','ProtossCarrier','ProtossCarrierCapacity','ProtossTribunal',\n",
    "'ProtossArbitor','ProtossStatis','ProtossRecall','ProtossAirWeapons1','ProtossAirArmor1','ProtossAirWeapons2','ProtossAirArmor2','midBuild'])\n",
    "\n",
    "#Full data sett 100% as matrix\n",
    "targetDataframe = df.iloc[:,:-1].as_matrix()\n",
    "dataFrame = df.as_matrix()\n",
    "name = df.columns.values\n",
    "\n",
    "\n",
    "df = df[['ProtossPylon','ProtossSecondPylon','ProtossFirstGas','ProtossSecondGas','ProtossFirstExpansion','ProtossSecondExpansion','ProtossThirdExpansion','ProtossFourthExpansion','ProtossGateway','ProtossSecondGatway','ProtossThirdGatway','ProtossFourthGatway','ProtossCore','ProtossZealot','ProtossGoon','ProtossRange','ProtossForge',\n",
    "'ProtossCannon','ProtossGroundWeapons1','ProtossGroundArmor1','ProtossShields1','ProtossGroundWeapons2','ProtossCitadel','ProtossLegs','ProtossArchives','ProtossTemplar','ProtossArchon','ProtossStorm','ProtossDarkTemplar','ProtossRoboBay','ProtossShuttle','ProtossReavor','ProtossObservory','ProtossObs',\n",
    "'ProtossStargate','ProtossCarrier','ProtossCarrierCapacity','ProtossAirWeapons1','ProtossAirArmor1','midBuild']]\n",
    "\n",
    "\n",
    "droppedAttributes = ['ProtossDisruptionWeb','ProtossReavorCapacity','ProtossReavorDamage'\n",
    ",'ProtossCorsair','ProtossAirWeapons2','ProtossGroundArmor2','ProtossAirArmor2','ProtossDarkArchon'\n",
    ",'ProtossMaelstorm','ProtossShields2','ProtossFleetBeason''ProtossTribunal','ProtossArbitor','ProtossStatis'\n",
    ",'ProtossRecall','ProtossRoboSupport','ProtossShuttleSpeed']\n"
   ]
  },
  {
   "cell_type": "code",
   "execution_count": 3,
   "metadata": {},
   "outputs": [],
   "source": [
    "\n",
    "\n",
    "################################\n",
    "#find outliers, clean shit up\n",
    "for col in range(1,56):\n",
    "    m=df.iloc[:,col].dropna().quantile(0.99)\n",
    "    df.iloc[:,col]=df.iloc[:,col].map(lambda x: None if x>m else x)\n",
    "\n",
    "#drop outliers\n",
    "dfDropped =df.dropna()\n",
    "\n",
    "#build data 80%\n",
    "build_data = dfDropped.sample(frac=.8)\n",
    "build_data_labels = build_data['midBuild']\n",
    "build_data = build_data.iloc[:,:-1]\n",
    "#test data rest 20%\n",
    "test_data = dfDropped.loc[~dfDropped.index.isin(build_data.index)]\n",
    "test_data_labels = test_data['midBuild']\n",
    "test_data = test_data.iloc[:,:-1]\n",
    "\n",
    "#cleaned target as matrix\n",
    "targetMatrix = dfDropped['midBuild'].as_matrix()\n",
    "\n",
    "#clean data as df\n",
    "dfDropped = dfDropped.iloc[:,:-1]\n",
    "dfPreProsesed = preprocessing.StandardScaler().fit_transform(dfDropped)\n",
    "\n",
    "#cleaned data as matrix\n",
    "dataMatrix = dfDropped.as_matrix()\n",
    "\n",
    "\n",
    "# #####################################\n",
    "# #GradientBoostingClassifier\n",
    "# model_best = GradientBoostingClassifier(n_estimators=50,max_depth=2)\n",
    "# model_best.fit(build_data,build_data_labels)\n",
    "# yhat = model_best.predict(build_data)\n",
    "# value = model_best.feature_importances_\n",
    "\n",
    "\n",
    "# ind=sorted(range(len(value)),reverse=False,key=lambda k: value[k])\n",
    "# features=name[ind]\n",
    "# value=sorted(value,reverse=True)\n",
    "# value = value[:10]\n",
    "# ind=np.array(range(10))\n",
    "\n",
    "\n",
    "# ################################\n",
    "# #feature Importance\n",
    "#  plt.rcParams['figure.figsize'] = (9,7)\n",
    "#  plt.barh(bottom=ind,height=0.5,width=value,color='r')\n",
    "#  plt.yticks(ind+0.25,features)\n",
    "#  plt.xlabel('Weights')\n",
    "#  plt.ylabel('Features')\n",
    "#  plt.title('Feature Importances')\n",
    "#  plt.tight_layout()\n",
    "#  plt.show()\n",
    "\n",
    "#  ################################\n",
    "#  # Pie chart using plotly\n",
    "#  # trace = go.Pie(labels=features, values=value)\n",
    "#  # py.iplot([trace], filename='GB_pie_chart')\n",
    "\n",
    "# '''\n",
    "# Conditional means with observations using seaborn\n",
    "# '''\n",
    "# df = df[['ProtossStatis','ProtossArbitor','ProtossTribunal','ProtossCarrier','ProtossReavorCapacity','ProtossReavorDamage','ProtossShuttleSpeed','ProtossMaelstorm','ProtossDarkArchon','ProtossGroundArmor1','midBuild']]\n",
    "\n",
    "# sns.set(style=\"whitegrid\", palette=\"muted\")\n",
    "\n",
    "# df = pd.melt(df, \"midBuild\", var_name=\"attribute\")\n",
    "\n",
    "\n",
    "# sns.swarmplot(x=\"value\", y=\"attribute\", hue=\"midBuild\", data=df)\n",
    "\n",
    "# plt.show()\n",
    "\n",
    "\n",
    "# #This is a scatterplot using Bokeh\n",
    "# #It shows the relation between the Best featuture from the GB_feature_importance.png\n",
    "# # vs the 10th best feature from GB_feature_importance.png\n",
    "# from bokeh.charts import Scatter, output_file, show\n",
    "\n",
    "# p1 = Scatter(dfDropped, x='ProtossGroundArmor1', y='ProtossStatis', title=\"Ground Armor 1 vs Dark Archon\",\n",
    "#             xlabel=\"Ground Armor\", ylabel=\"Staisis information\")\n",
    "\n",
    "# output_file(\"scatter.html\")\n",
    "\n",
    "# show(p1)\n",
    "# '''\n",
    "# The scatterplot show that there isnt to much correlation between the two attributes\n",
    "# While we can see some correlation in the center,\n",
    "# compared to how many datapoint we use there is littel to no correlation.\n",
    "# '''\n"
   ]
  },
  {
   "cell_type": "code",
   "execution_count": null,
   "metadata": {
    "collapsed": true
   },
   "outputs": [],
   "source": []
  }
 ],
 "metadata": {
  "anaconda-cloud": {},
  "kernelspec": {
   "display_name": "Python [default]",
   "language": "python",
   "name": "python2"
  },
  "language_info": {
   "codemirror_mode": {
    "name": "ipython",
    "version": 2
   },
   "file_extension": ".py",
   "mimetype": "text/x-python",
   "name": "python",
   "nbconvert_exporter": "python",
   "pygments_lexer": "ipython2",
   "version": "2.7.14"
  }
 },
 "nbformat": 4,
 "nbformat_minor": 2
}
